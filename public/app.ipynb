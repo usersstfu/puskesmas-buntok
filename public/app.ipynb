{
 "cells": [
  {
   "cell_type": "code",
   "execution_count": 14,
   "metadata": {},
   "outputs": [],
   "source": [
    "import pandas as pd\n",
    "import numpy as np"
   ]
  },
  {
   "cell_type": "code",
   "execution_count": 10,
   "metadata": {},
   "outputs": [
    {
     "name": "stdout",
     "output_type": "stream",
     "text": [
      "<class 'pandas.core.frame.DataFrame'>\n",
      "RangeIndex: 749 entries, 0 to 748\n",
      "Data columns (total 12 columns):\n",
      " #   Column              Non-Null Count  Dtype \n",
      "---  ------              --------------  ----- \n",
      " 0   nomor               749 non-null    object\n",
      " 1   ruangan             749 non-null    object\n",
      " 2   status_prioritas    749 non-null    int64 \n",
      " 3   nama                749 non-null    object\n",
      " 4   nik                 749 non-null    int64 \n",
      " 5   waktu               749 non-null    int64 \n",
      " 6   status              749 non-null    object\n",
      " 7   created_at          749 non-null    object\n",
      " 8   updated_at          749 non-null    object\n",
      " 9   waktu_dilayani      749 non-null    int64 \n",
      " 10  waktu_total_sistem  749 non-null    int64 \n",
      " 11  riwayat_waktu       749 non-null    object\n",
      "dtypes: int64(5), object(7)\n",
      "memory usage: 70.3+ KB\n"
     ]
    }
   ],
   "source": [
    "df = pd.read_csv('data_antrian_new.csv')\n",
    "df.info()"
   ]
  },
  {
   "cell_type": "code",
   "execution_count": 11,
   "metadata": {},
   "outputs": [
    {
     "data": {
      "text/plain": [
       "array([10, 20,  1, 14, 24,  5, 11, 21,  2], dtype=int64)"
      ]
     },
     "execution_count": 11,
     "metadata": {},
     "output_type": "execute_result"
    }
   ],
   "source": [
    "df[\"status_prioritas\"].unique()"
   ]
  },
  {
   "cell_type": "code",
   "execution_count": 19,
   "metadata": {},
   "outputs": [],
   "source": [
    "mask = df['status_prioritas'].between(10, 19)\n",
    "\n",
    "df.loc[mask, 'waktu_total_sistem'] = np.random.randint(300, 601, size=mask.sum())\n",
    "\n",
    "mask = df['status_prioritas'].between(1, 9)\n",
    "\n",
    "df.loc[mask, 'waktu_total_sistem'] = np.random.randint(700, 1500, size=mask.sum())\n",
    "\n",
    "mask = df['status_prioritas'] == 20\n",
    "\n",
    "df.loc[mask, 'waktu_total_sistem'] = np.random.randint(100, 398, size=mask.sum())\n",
    "df\n",
    "df.to_csv('data_antrian_newbie.csv', index=False)"
   ]
  },
  {
   "cell_type": "code",
   "execution_count": null,
   "metadata": {},
   "outputs": [],
   "source": []
  }
 ],
 "metadata": {
  "kernelspec": {
   "display_name": "Python 3",
   "language": "python",
   "name": "python3"
  },
  "language_info": {
   "codemirror_mode": {
    "name": "ipython",
    "version": 3
   },
   "file_extension": ".py",
   "mimetype": "text/x-python",
   "name": "python",
   "nbconvert_exporter": "python",
   "pygments_lexer": "ipython3",
   "version": "3.11.0"
  }
 },
 "nbformat": 4,
 "nbformat_minor": 2
}
